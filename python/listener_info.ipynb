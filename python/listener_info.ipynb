{
 "cells": [
  {
   "cell_type": "code",
   "execution_count": 16,
   "metadata": {},
   "outputs": [],
   "source": [
    "import os\n",
    "import xml.etree.ElementTree as ET\n",
    "import pandas as pd\n",
    "\n",
    "folder_name = \"../saves\"\n",
    "\n",
    "# Get every XML file in the folder\n",
    "dict_results = {}\n",
    "headers = ['type', 'name', 'headphones', 'quiet', 'english']\n",
    "\n",
    "for file_name in os.listdir(folder_name):\n",
    "    if (file_name.endswith(\".xml\")):\n",
    "        tree = ET.parse(folder_name + '/' + file_name)\n",
    "        root = tree.getroot()\n",
    "        \n",
    "        subject_id = root.get('key');\n",
    "        \n",
    "        dict_results[str(subject_id)] = []\n",
    "        \n",
    "        for waetresult in root.findall('./waet'):\n",
    "            file_type = waetresult.get(\"file-name\")[-7:-4]\n",
    "            dict_results[str(subject_id)].append(file_type)\n",
    "        for surveyresult in root.findall(\"./survey/surveyresult\"):\n",
    "            if surveyresult.get('ref') == \"name\":\n",
    "                for response in surveyresult.findall(\"./response\"):\n",
    "                    dict_results[str(subject_id)].append(response.text)\n",
    "            if surveyresult.get('ref') == 'headphones':\n",
    "                for response in surveyresult.findall('./response'):\n",
    "                    if response.get('checked') == 'true':  \n",
    "                        dict_results[str(subject_id)].append(response.get('name'))\n",
    "            if surveyresult.get('ref') == 'quiet':\n",
    "                for response in surveyresult.findall('./response'):\n",
    "                    if response.get('checked') == 'true':\n",
    "                        dict_results[str(subject_id)].append(response.get('name'))\n",
    "            if surveyresult.get('ref') == 'english':\n",
    "                for response in surveyresult.findall('./response'):\n",
    "                    if response.get('checked') == 'true':\n",
    "                        dict_results[str(subject_id)].append(response.get('name'))\n",
    "\n",
    "df_dict_results = pd.DataFrame.from_dict(dict_results, orient='index')\n",
    "df_dict_results.columns = headers\n",
    "df_dict_results.to_csv('../saves/ratings/listner_info.csv', index_label='file_keys')"
   ]
  }
 ],
 "metadata": {
  "kernelspec": {
   "display_name": "deepzen-v1",
   "language": "python",
   "name": "python3"
  },
  "language_info": {
   "codemirror_mode": {
    "name": "ipython",
    "version": 3
   },
   "file_extension": ".py",
   "mimetype": "text/x-python",
   "name": "python",
   "nbconvert_exporter": "python",
   "pygments_lexer": "ipython3",
   "version": "3.10.11"
  },
  "orig_nbformat": 4
 },
 "nbformat": 4,
 "nbformat_minor": 2
}
